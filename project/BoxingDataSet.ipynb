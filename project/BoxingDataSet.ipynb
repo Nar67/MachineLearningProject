{
 "cells": [
  {
   "cell_type": "markdown",
   "metadata": {},
   "source": [
    "# Machine Learning \n",
    "### Narcís Terrado"
   ]
  },
  {
   "cell_type": "code",
   "execution_count": 1,
   "metadata": {},
   "outputs": [],
   "source": [
    "import pandas as pd\n",
    "import numpy as np\n",
    "import matplotlib.pyplot as plt\n",
    "import seaborn as sns\n",
    "from IPython.display import Image\n",
    "%matplotlib inline"
   ]
  },
  {
   "cell_type": "markdown",
   "metadata": {},
   "source": [
    "## Data Set"
   ]
  },
  {
   "cell_type": "code",
   "execution_count": 2,
   "metadata": {},
   "outputs": [
    {
     "data": {
      "text/html": [
       "<div>\n",
       "<style scoped>\n",
       "    .dataframe tbody tr th:only-of-type {\n",
       "        vertical-align: middle;\n",
       "    }\n",
       "\n",
       "    .dataframe tbody tr th {\n",
       "        vertical-align: top;\n",
       "    }\n",
       "\n",
       "    .dataframe thead th {\n",
       "        text-align: right;\n",
       "    }\n",
       "</style>\n",
       "<table border=\"1\" class=\"dataframe\">\n",
       "  <thead>\n",
       "    <tr style=\"text-align: right;\">\n",
       "      <th></th>\n",
       "      <th>age_A</th>\n",
       "      <th>age_B</th>\n",
       "      <th>height_A</th>\n",
       "      <th>height_B</th>\n",
       "      <th>reach_A</th>\n",
       "      <th>reach_B</th>\n",
       "      <th>stance_A</th>\n",
       "      <th>stance_B</th>\n",
       "      <th>weight_A</th>\n",
       "      <th>weight_B</th>\n",
       "      <th>...</th>\n",
       "      <th>kos_A</th>\n",
       "      <th>kos_B</th>\n",
       "      <th>result</th>\n",
       "      <th>decision</th>\n",
       "      <th>judge1_A</th>\n",
       "      <th>judge1_B</th>\n",
       "      <th>judge2_A</th>\n",
       "      <th>judge2_B</th>\n",
       "      <th>judge3_A</th>\n",
       "      <th>judge3_B</th>\n",
       "    </tr>\n",
       "  </thead>\n",
       "  <tbody>\n",
       "    <tr>\n",
       "      <th>0</th>\n",
       "      <td>35.0</td>\n",
       "      <td>27.0</td>\n",
       "      <td>179.0</td>\n",
       "      <td>175.0</td>\n",
       "      <td>178.0</td>\n",
       "      <td>179.0</td>\n",
       "      <td>orthodox</td>\n",
       "      <td>orthodox</td>\n",
       "      <td>160.0</td>\n",
       "      <td>160.0</td>\n",
       "      <td>...</td>\n",
       "      <td>33</td>\n",
       "      <td>34.0</td>\n",
       "      <td>draw</td>\n",
       "      <td>SD</td>\n",
       "      <td>110.0</td>\n",
       "      <td>118.0</td>\n",
       "      <td>115.0</td>\n",
       "      <td>113.0</td>\n",
       "      <td>114.0</td>\n",
       "      <td>114.0</td>\n",
       "    </tr>\n",
       "    <tr>\n",
       "      <th>1</th>\n",
       "      <td>26.0</td>\n",
       "      <td>31.0</td>\n",
       "      <td>175.0</td>\n",
       "      <td>185.0</td>\n",
       "      <td>179.0</td>\n",
       "      <td>185.0</td>\n",
       "      <td>orthodox</td>\n",
       "      <td>orthodox</td>\n",
       "      <td>164.0</td>\n",
       "      <td>164.0</td>\n",
       "      <td>...</td>\n",
       "      <td>34</td>\n",
       "      <td>32.0</td>\n",
       "      <td>win_A</td>\n",
       "      <td>UD</td>\n",
       "      <td>120.0</td>\n",
       "      <td>108.0</td>\n",
       "      <td>120.0</td>\n",
       "      <td>108.0</td>\n",
       "      <td>120.0</td>\n",
       "      <td>108.0</td>\n",
       "    </tr>\n",
       "    <tr>\n",
       "      <th>2</th>\n",
       "      <td>28.0</td>\n",
       "      <td>26.0</td>\n",
       "      <td>176.0</td>\n",
       "      <td>175.0</td>\n",
       "      <td>NaN</td>\n",
       "      <td>179.0</td>\n",
       "      <td>orthodox</td>\n",
       "      <td>orthodox</td>\n",
       "      <td>154.0</td>\n",
       "      <td>154.0</td>\n",
       "      <td>...</td>\n",
       "      <td>13</td>\n",
       "      <td>33.0</td>\n",
       "      <td>win_B</td>\n",
       "      <td>KO</td>\n",
       "      <td>NaN</td>\n",
       "      <td>NaN</td>\n",
       "      <td>NaN</td>\n",
       "      <td>NaN</td>\n",
       "      <td>NaN</td>\n",
       "      <td>NaN</td>\n",
       "    </tr>\n",
       "    <tr>\n",
       "      <th>3</th>\n",
       "      <td>25.0</td>\n",
       "      <td>29.0</td>\n",
       "      <td>175.0</td>\n",
       "      <td>174.0</td>\n",
       "      <td>179.0</td>\n",
       "      <td>180.0</td>\n",
       "      <td>orthodox</td>\n",
       "      <td>orthodox</td>\n",
       "      <td>155.0</td>\n",
       "      <td>155.0</td>\n",
       "      <td>...</td>\n",
       "      <td>32</td>\n",
       "      <td>19.0</td>\n",
       "      <td>win_A</td>\n",
       "      <td>KO</td>\n",
       "      <td>47.0</td>\n",
       "      <td>48.0</td>\n",
       "      <td>49.0</td>\n",
       "      <td>46.0</td>\n",
       "      <td>48.0</td>\n",
       "      <td>47.0</td>\n",
       "    </tr>\n",
       "    <tr>\n",
       "      <th>4</th>\n",
       "      <td>25.0</td>\n",
       "      <td>35.0</td>\n",
       "      <td>175.0</td>\n",
       "      <td>170.0</td>\n",
       "      <td>179.0</td>\n",
       "      <td>170.0</td>\n",
       "      <td>orthodox</td>\n",
       "      <td>orthodox</td>\n",
       "      <td>155.0</td>\n",
       "      <td>NaN</td>\n",
       "      <td>...</td>\n",
       "      <td>32</td>\n",
       "      <td>33.0</td>\n",
       "      <td>win_A</td>\n",
       "      <td>UD</td>\n",
       "      <td>118.0</td>\n",
       "      <td>110.0</td>\n",
       "      <td>119.0</td>\n",
       "      <td>109.0</td>\n",
       "      <td>117.0</td>\n",
       "      <td>111.0</td>\n",
       "    </tr>\n",
       "  </tbody>\n",
       "</table>\n",
       "<p>5 rows × 26 columns</p>\n",
       "</div>"
      ],
      "text/plain": [
       "   age_A  age_B  height_A  height_B  reach_A  reach_B  stance_A  stance_B  \\\n",
       "0   35.0   27.0     179.0     175.0    178.0    179.0  orthodox  orthodox   \n",
       "1   26.0   31.0     175.0     185.0    179.0    185.0  orthodox  orthodox   \n",
       "2   28.0   26.0     176.0     175.0      NaN    179.0  orthodox  orthodox   \n",
       "3   25.0   29.0     175.0     174.0    179.0    180.0  orthodox  orthodox   \n",
       "4   25.0   35.0     175.0     170.0    179.0    170.0  orthodox  orthodox   \n",
       "\n",
       "   weight_A  weight_B   ...     kos_A  kos_B  result  decision  judge1_A  \\\n",
       "0     160.0     160.0   ...        33   34.0    draw        SD     110.0   \n",
       "1     164.0     164.0   ...        34   32.0   win_A        UD     120.0   \n",
       "2     154.0     154.0   ...        13   33.0   win_B        KO       NaN   \n",
       "3     155.0     155.0   ...        32   19.0   win_A        KO      47.0   \n",
       "4     155.0       NaN   ...        32   33.0   win_A        UD     118.0   \n",
       "\n",
       "   judge1_B  judge2_A  judge2_B judge3_A judge3_B  \n",
       "0     118.0     115.0     113.0    114.0    114.0  \n",
       "1     108.0     120.0     108.0    120.0    108.0  \n",
       "2       NaN       NaN       NaN      NaN      NaN  \n",
       "3      48.0      49.0      46.0     48.0     47.0  \n",
       "4     110.0     119.0     109.0    117.0    111.0  \n",
       "\n",
       "[5 rows x 26 columns]"
      ]
     },
     "execution_count": 2,
     "metadata": {},
     "output_type": "execute_result"
    }
   ],
   "source": [
    "box = pd.read_csv('boxing_matches.csv')\n",
    "box.head()"
   ]
  },
  {
   "cell_type": "code",
   "execution_count": 3,
   "metadata": {},
   "outputs": [
    {
     "name": "stdout",
     "output_type": "stream",
     "text": [
      "<class 'pandas.core.frame.DataFrame'>\n",
      "RangeIndex: 387427 entries, 0 to 387426\n",
      "Data columns (total 26 columns):\n",
      "age_A       352888 non-null float64\n",
      "age_B       257935 non-null float64\n",
      "height_A    249246 non-null float64\n",
      "height_B    134640 non-null float64\n",
      "reach_A     112342 non-null float64\n",
      "reach_B     37873 non-null float64\n",
      "stance_A    231009 non-null object\n",
      "stance_B    231009 non-null object\n",
      "weight_A    135573 non-null float64\n",
      "weight_B    130358 non-null float64\n",
      "won_A       387427 non-null int64\n",
      "won_B       387427 non-null int64\n",
      "lost_A      387427 non-null int64\n",
      "lost_B      387427 non-null int64\n",
      "drawn_A     387427 non-null int64\n",
      "drawn_B     387427 non-null int64\n",
      "kos_A       387427 non-null int64\n",
      "kos_B       387348 non-null float64\n",
      "result      387427 non-null object\n",
      "decision    387427 non-null object\n",
      "judge1_A    52248 non-null float64\n",
      "judge1_B    52060 non-null float64\n",
      "judge2_A    70371 non-null float64\n",
      "judge2_B    70032 non-null float64\n",
      "judge3_A    61231 non-null float64\n",
      "judge3_B    61023 non-null float64\n",
      "dtypes: float64(15), int64(7), object(4)\n",
      "memory usage: 76.9+ MB\n"
     ]
    }
   ],
   "source": [
    "box.info()"
   ]
  },
  {
   "cell_type": "code",
   "execution_count": 4,
   "metadata": {},
   "outputs": [
    {
     "data": {
      "text/html": [
       "<div>\n",
       "<style scoped>\n",
       "    .dataframe tbody tr th:only-of-type {\n",
       "        vertical-align: middle;\n",
       "    }\n",
       "\n",
       "    .dataframe tbody tr th {\n",
       "        vertical-align: top;\n",
       "    }\n",
       "\n",
       "    .dataframe thead th {\n",
       "        text-align: right;\n",
       "    }\n",
       "</style>\n",
       "<table border=\"1\" class=\"dataframe\">\n",
       "  <thead>\n",
       "    <tr style=\"text-align: right;\">\n",
       "      <th></th>\n",
       "      <th>age_A</th>\n",
       "      <th>age_B</th>\n",
       "      <th>height_A</th>\n",
       "      <th>height_B</th>\n",
       "      <th>reach_A</th>\n",
       "      <th>reach_B</th>\n",
       "      <th>weight_A</th>\n",
       "      <th>weight_B</th>\n",
       "      <th>won_A</th>\n",
       "      <th>won_B</th>\n",
       "      <th>...</th>\n",
       "      <th>drawn_A</th>\n",
       "      <th>drawn_B</th>\n",
       "      <th>kos_A</th>\n",
       "      <th>kos_B</th>\n",
       "      <th>judge1_A</th>\n",
       "      <th>judge1_B</th>\n",
       "      <th>judge2_A</th>\n",
       "      <th>judge2_B</th>\n",
       "      <th>judge3_A</th>\n",
       "      <th>judge3_B</th>\n",
       "    </tr>\n",
       "  </thead>\n",
       "  <tbody>\n",
       "    <tr>\n",
       "      <th>count</th>\n",
       "      <td>352888.000000</td>\n",
       "      <td>257935.000000</td>\n",
       "      <td>249246.000000</td>\n",
       "      <td>134640.000000</td>\n",
       "      <td>112342.000000</td>\n",
       "      <td>37873.000000</td>\n",
       "      <td>135573.000000</td>\n",
       "      <td>130358.000000</td>\n",
       "      <td>387427.000000</td>\n",
       "      <td>387427.000000</td>\n",
       "      <td>...</td>\n",
       "      <td>387427.000000</td>\n",
       "      <td>387427.000000</td>\n",
       "      <td>387427.000000</td>\n",
       "      <td>387348.000000</td>\n",
       "      <td>52248.000000</td>\n",
       "      <td>52060.000000</td>\n",
       "      <td>70371.000000</td>\n",
       "      <td>70032.000000</td>\n",
       "      <td>61231.000000</td>\n",
       "      <td>61023.000000</td>\n",
       "    </tr>\n",
       "    <tr>\n",
       "      <th>mean</th>\n",
       "      <td>24.416041</td>\n",
       "      <td>26.583345</td>\n",
       "      <td>172.786657</td>\n",
       "      <td>172.882657</td>\n",
       "      <td>178.848605</td>\n",
       "      <td>179.001030</td>\n",
       "      <td>146.340636</td>\n",
       "      <td>147.089484</td>\n",
       "      <td>23.108438</td>\n",
       "      <td>15.159080</td>\n",
       "      <td>...</td>\n",
       "      <td>2.826481</td>\n",
       "      <td>2.636375</td>\n",
       "      <td>10.338887</td>\n",
       "      <td>6.234735</td>\n",
       "      <td>62.778901</td>\n",
       "      <td>59.509700</td>\n",
       "      <td>59.560941</td>\n",
       "      <td>56.570411</td>\n",
       "      <td>60.784276</td>\n",
       "      <td>57.995215</td>\n",
       "    </tr>\n",
       "    <tr>\n",
       "      <th>std</th>\n",
       "      <td>6.523590</td>\n",
       "      <td>11.823224</td>\n",
       "      <td>9.130127</td>\n",
       "      <td>9.430631</td>\n",
       "      <td>12.002404</td>\n",
       "      <td>14.867537</td>\n",
       "      <td>30.240142</td>\n",
       "      <td>30.624890</td>\n",
       "      <td>27.629901</td>\n",
       "      <td>19.938137</td>\n",
       "      <td>...</td>\n",
       "      <td>5.584610</td>\n",
       "      <td>5.027003</td>\n",
       "      <td>12.392049</td>\n",
       "      <td>8.750690</td>\n",
       "      <td>30.337580</td>\n",
       "      <td>29.285058</td>\n",
       "      <td>31.021367</td>\n",
       "      <td>30.260935</td>\n",
       "      <td>31.910461</td>\n",
       "      <td>31.170590</td>\n",
       "    </tr>\n",
       "    <tr>\n",
       "      <th>min</th>\n",
       "      <td>-74.000000</td>\n",
       "      <td>-74.000000</td>\n",
       "      <td>2.000000</td>\n",
       "      <td>15.000000</td>\n",
       "      <td>5.000000</td>\n",
       "      <td>1.000000</td>\n",
       "      <td>10.000000</td>\n",
       "      <td>2.000000</td>\n",
       "      <td>0.000000</td>\n",
       "      <td>0.000000</td>\n",
       "      <td>...</td>\n",
       "      <td>0.000000</td>\n",
       "      <td>0.000000</td>\n",
       "      <td>0.000000</td>\n",
       "      <td>0.000000</td>\n",
       "      <td>0.000000</td>\n",
       "      <td>1.000000</td>\n",
       "      <td>0.000000</td>\n",
       "      <td>0.000000</td>\n",
       "      <td>0.000000</td>\n",
       "      <td>1.000000</td>\n",
       "    </tr>\n",
       "    <tr>\n",
       "      <th>25%</th>\n",
       "      <td>21.000000</td>\n",
       "      <td>23.000000</td>\n",
       "      <td>166.000000</td>\n",
       "      <td>167.000000</td>\n",
       "      <td>170.000000</td>\n",
       "      <td>171.000000</td>\n",
       "      <td>125.000000</td>\n",
       "      <td>126.000000</td>\n",
       "      <td>5.000000</td>\n",
       "      <td>2.000000</td>\n",
       "      <td>...</td>\n",
       "      <td>0.000000</td>\n",
       "      <td>0.000000</td>\n",
       "      <td>2.000000</td>\n",
       "      <td>0.000000</td>\n",
       "      <td>39.000000</td>\n",
       "      <td>37.000000</td>\n",
       "      <td>39.000000</td>\n",
       "      <td>36.000000</td>\n",
       "      <td>39.000000</td>\n",
       "      <td>36.000000</td>\n",
       "    </tr>\n",
       "    <tr>\n",
       "      <th>50%</th>\n",
       "      <td>24.000000</td>\n",
       "      <td>26.000000</td>\n",
       "      <td>173.000000</td>\n",
       "      <td>173.000000</td>\n",
       "      <td>178.000000</td>\n",
       "      <td>178.000000</td>\n",
       "      <td>140.000000</td>\n",
       "      <td>140.000000</td>\n",
       "      <td>14.000000</td>\n",
       "      <td>8.000000</td>\n",
       "      <td>...</td>\n",
       "      <td>1.000000</td>\n",
       "      <td>1.000000</td>\n",
       "      <td>6.000000</td>\n",
       "      <td>3.000000</td>\n",
       "      <td>59.000000</td>\n",
       "      <td>54.000000</td>\n",
       "      <td>58.000000</td>\n",
       "      <td>54.000000</td>\n",
       "      <td>58.000000</td>\n",
       "      <td>54.000000</td>\n",
       "    </tr>\n",
       "    <tr>\n",
       "      <th>75%</th>\n",
       "      <td>27.000000</td>\n",
       "      <td>30.000000</td>\n",
       "      <td>178.000000</td>\n",
       "      <td>179.000000</td>\n",
       "      <td>185.000000</td>\n",
       "      <td>185.000000</td>\n",
       "      <td>160.000000</td>\n",
       "      <td>160.000000</td>\n",
       "      <td>31.000000</td>\n",
       "      <td>21.000000</td>\n",
       "      <td>...</td>\n",
       "      <td>3.000000</td>\n",
       "      <td>3.000000</td>\n",
       "      <td>14.000000</td>\n",
       "      <td>9.000000</td>\n",
       "      <td>80.000000</td>\n",
       "      <td>79.000000</td>\n",
       "      <td>80.000000</td>\n",
       "      <td>75.000000</td>\n",
       "      <td>80.000000</td>\n",
       "      <td>78.000000</td>\n",
       "    </tr>\n",
       "    <tr>\n",
       "      <th>max</th>\n",
       "      <td>1818.000000</td>\n",
       "      <td>2016.000000</td>\n",
       "      <td>255.000000</td>\n",
       "      <td>255.000000</td>\n",
       "      <td>456.000000</td>\n",
       "      <td>456.000000</td>\n",
       "      <td>363.000000</td>\n",
       "      <td>450.000000</td>\n",
       "      <td>332.000000</td>\n",
       "      <td>251.000000</td>\n",
       "      <td>...</td>\n",
       "      <td>77.000000</td>\n",
       "      <td>76.000000</td>\n",
       "      <td>131.000000</td>\n",
       "      <td>128.000000</td>\n",
       "      <td>540.000000</td>\n",
       "      <td>291.000000</td>\n",
       "      <td>299.000000</td>\n",
       "      <td>294.000000</td>\n",
       "      <td>300.000000</td>\n",
       "      <td>295.000000</td>\n",
       "    </tr>\n",
       "  </tbody>\n",
       "</table>\n",
       "<p>8 rows × 22 columns</p>\n",
       "</div>"
      ],
      "text/plain": [
       "               age_A          age_B       height_A       height_B  \\\n",
       "count  352888.000000  257935.000000  249246.000000  134640.000000   \n",
       "mean       24.416041      26.583345     172.786657     172.882657   \n",
       "std         6.523590      11.823224       9.130127       9.430631   \n",
       "min       -74.000000     -74.000000       2.000000      15.000000   \n",
       "25%        21.000000      23.000000     166.000000     167.000000   \n",
       "50%        24.000000      26.000000     173.000000     173.000000   \n",
       "75%        27.000000      30.000000     178.000000     179.000000   \n",
       "max      1818.000000    2016.000000     255.000000     255.000000   \n",
       "\n",
       "             reach_A       reach_B       weight_A       weight_B  \\\n",
       "count  112342.000000  37873.000000  135573.000000  130358.000000   \n",
       "mean      178.848605    179.001030     146.340636     147.089484   \n",
       "std        12.002404     14.867537      30.240142      30.624890   \n",
       "min         5.000000      1.000000      10.000000       2.000000   \n",
       "25%       170.000000    171.000000     125.000000     126.000000   \n",
       "50%       178.000000    178.000000     140.000000     140.000000   \n",
       "75%       185.000000    185.000000     160.000000     160.000000   \n",
       "max       456.000000    456.000000     363.000000     450.000000   \n",
       "\n",
       "               won_A          won_B      ...             drawn_A  \\\n",
       "count  387427.000000  387427.000000      ...       387427.000000   \n",
       "mean       23.108438      15.159080      ...            2.826481   \n",
       "std        27.629901      19.938137      ...            5.584610   \n",
       "min         0.000000       0.000000      ...            0.000000   \n",
       "25%         5.000000       2.000000      ...            0.000000   \n",
       "50%        14.000000       8.000000      ...            1.000000   \n",
       "75%        31.000000      21.000000      ...            3.000000   \n",
       "max       332.000000     251.000000      ...           77.000000   \n",
       "\n",
       "             drawn_B          kos_A          kos_B      judge1_A  \\\n",
       "count  387427.000000  387427.000000  387348.000000  52248.000000   \n",
       "mean        2.636375      10.338887       6.234735     62.778901   \n",
       "std         5.027003      12.392049       8.750690     30.337580   \n",
       "min         0.000000       0.000000       0.000000      0.000000   \n",
       "25%         0.000000       2.000000       0.000000     39.000000   \n",
       "50%         1.000000       6.000000       3.000000     59.000000   \n",
       "75%         3.000000      14.000000       9.000000     80.000000   \n",
       "max        76.000000     131.000000     128.000000    540.000000   \n",
       "\n",
       "           judge1_B      judge2_A      judge2_B      judge3_A      judge3_B  \n",
       "count  52060.000000  70371.000000  70032.000000  61231.000000  61023.000000  \n",
       "mean      59.509700     59.560941     56.570411     60.784276     57.995215  \n",
       "std       29.285058     31.021367     30.260935     31.910461     31.170590  \n",
       "min        1.000000      0.000000      0.000000      0.000000      1.000000  \n",
       "25%       37.000000     39.000000     36.000000     39.000000     36.000000  \n",
       "50%       54.000000     58.000000     54.000000     58.000000     54.000000  \n",
       "75%       79.000000     80.000000     75.000000     80.000000     78.000000  \n",
       "max      291.000000    299.000000    294.000000    300.000000    295.000000  \n",
       "\n",
       "[8 rows x 22 columns]"
      ]
     },
     "execution_count": 4,
     "metadata": {},
     "output_type": "execute_result"
    }
   ],
   "source": [
    "box.describe()"
   ]
  },
  {
   "cell_type": "code",
   "execution_count": 5,
   "metadata": {},
   "outputs": [
    {
     "data": {
      "text/plain": [
       "<matplotlib.axes._subplots.AxesSubplot at 0x7f07e0a3ffd0>"
      ]
     },
     "execution_count": 5,
     "metadata": {},
     "output_type": "execute_result"
    },
    {
     "data": {
      "image/png": "[encoded data removed]",
      "text/plain": [
       "<Figure size 432x288 with 2 Axes>"
      ]
     },
     "metadata": {},
     "output_type": "display_data"
    }
   ],
   "source": [
    "sns.heatmap(box.corr())"
   ]
  },
  {
   "cell_type": "markdown",
   "metadata": {},
   "source": [
    "# Data preprocesing\n",
    "\n",
    "We show all the NaN values in the initial DataSet.\n",
    "\n",
    "We will remove useless columns that have almost every value to NaN. Also, we will impute values to columns that we need in order to remove the NaNs."
   ]
  },
  {
   "cell_type": "code",
   "execution_count": 6,
   "metadata": {},
   "outputs": [
    {
     "data": {
      "text/plain": [
       "<matplotlib.axes._subplots.AxesSubplot at 0x7f07e0a476d8>"
      ]
     },
     "execution_count": 6,
     "metadata": {},
     "output_type": "execute_result"
    },
    {
     "data": {
      "image/png": "[encoded data removed]",
      "text/plain": [
       "<Figure size 432x288 with 1 Axes>"
      ]
     },
     "metadata": {},
     "output_type": "display_data"
    }
   ],
   "source": [
    "sns.heatmap(box.isnull(),yticklabels=False,cbar=False,cmap='viridis')"
   ]
  },
  {
   "cell_type": "code",
   "execution_count": 7,
   "metadata": {},
   "outputs": [],
   "source": [
    "box.drop(['judge1_A', 'judge1_B', 'judge2_A', 'judge2_B', 'judge3_A', 'judge3_B', 'decision', 'reach_A', 'reach_B'], axis=1, inplace=True)"
   ]
  },
  {
   "cell_type": "code",
   "execution_count": 8,
   "metadata": {},
   "outputs": [
    {
     "data": {
      "text/plain": [
       "<matplotlib.axes._subplots.AxesSubplot at 0x7f0818242240>"
      ]
     },
     "execution_count": 8,
     "metadata": {},
     "output_type": "execute_result"
    },
    {
     "data": {
      "image/png": "[encoded data removed]",
      "text/plain": [
       "<Figure size 432x288 with 1 Axes>"
      ]
     },
     "metadata": {},
     "output_type": "display_data"
    }
   ],
   "source": [
    "sns.heatmap(box.isnull(),yticklabels=False,cbar=False,cmap='viridis')"
   ]
  },
  {
   "cell_type": "markdown",
   "metadata": {},
   "source": [
    "## Impute height and weight\n",
    "\n",
    "For the NaNs in weight, I use the height due to the correlation between height and weight. The weight of the two boxers is almost the same, so we can use that too.\n",
    "\n",
    "For the height, we use the weight in the same way but we have all the weights.\n",
    "\n",
    "For the cases where we dont have any references, we use the mean. We precompute the mean because this way we dont compute it for every row(We went from 10 mins to 1 min)."
   ]
  },
  {
   "cell_type": "code",
   "execution_count": 9,
   "metadata": {},
   "outputs": [
    {
     "data": {
      "text/plain": [
       "<matplotlib.axes._subplots.AxesSubplot at 0x7f07e0846ba8>"
      ]
     },
     "execution_count": 9,
     "metadata": {},
     "output_type": "execute_result"
    },
    {
     "data": {
      "image/png": "[encoded data removed]",
      "text/plain": [
       "<Figure size 432x288 with 2 Axes>"
      ]
     },
     "metadata": {},
     "output_type": "display_data"
    }
   ],
   "source": [
    "sns.heatmap(box[['weight_A', 'weight_B', 'height_A', 'height_B']].corr(), center=0.75)"
   ]
  },
  {
   "cell_type": "code",
   "execution_count": 10,
   "metadata": {},
   "outputs": [],
   "source": [
    "weightMean = box['weight_A'].mean()"
   ]
  },
  {
   "cell_type": "code",
   "execution_count": 11,
   "metadata": {},
   "outputs": [],
   "source": [
    "def impute_weight(cols):\n",
    "    if pd.isna(cols[0]) and pd.isna(cols[1]): #weight\n",
    "        if pd.isna(cols[2]) and pd.isna(cols[3]): #height\n",
    "            return weightMean\n",
    "        else:\n",
    "            if not pd.isna(cols[2]):\n",
    "                return cols[2]-20\n",
    "            else:\n",
    "                return cols[3]-20\n",
    "    else:\n",
    "        if pd.isna(cols[0]):\n",
    "            return cols[1]\n",
    "        else:\n",
    "            return cols[0]"
   ]
  },
  {
   "cell_type": "code",
   "execution_count": 12,
   "metadata": {},
   "outputs": [],
   "source": [
    "def impute_height(cols):\n",
    "    weight = cols[1]\n",
    "    if pd.isna(cols[0]):\n",
    "        return weight+20\n",
    "    else:\n",
    "        return cols[0]"
   ]
  },
  {
   "cell_type": "code",
   "execution_count": 13,
   "metadata": {},
   "outputs": [
    {
     "name": "stdout",
     "output_type": "stream",
     "text": [
      "CPU times: user 55.6 s, sys: 24.2 ms, total: 55.6 s\n",
      "Wall time: 55.5 s\n"
     ]
    }
   ],
   "source": [
    "%%time\n",
    "box['weight_A'] = box[['weight_A','weight_B', 'height_A', 'height_B']].apply(impute_weight,axis=1)\n",
    "box['weight_B'] = box[['weight_A','weight_B', 'height_A', 'height_B']].apply(impute_weight,axis=1)"
   ]
  },
  {
   "cell_type": "code",
   "execution_count": 14,
   "metadata": {},
   "outputs": [
    {
     "data": {
      "text/plain": [
       "<matplotlib.axes._subplots.AxesSubplot at 0x7f07e07ab6a0>"
      ]
     },
     "execution_count": 14,
     "metadata": {},
     "output_type": "execute_result"
    },
    {
     "data": {
      "image/png": "[encoded data removed]",
      "text/plain": [
       "<Figure size 432x288 with 1 Axes>"
      ]
     },
     "metadata": {},
     "output_type": "display_data"
    }
   ],
   "source": [
    "sns.heatmap(box.isnull(),yticklabels=False,cbar=False,cmap='viridis')"
   ]
  },
  {
   "cell_type": "code",
   "execution_count": 15,
   "metadata": {},
   "outputs": [
    {
     "name": "stdout",
     "output_type": "stream",
     "text": [
      "CPU times: user 41.1 s, sys: 24.1 ms, total: 41.1 s\n",
      "Wall time: 41.1 s\n"
     ]
    }
   ],
   "source": [
    "%%time\n",
    "box['height_A'] = box[['height_A', 'weight_A']].apply(impute_height,axis=1)\n",
    "box['height_B'] = box[['height_B', 'weight_B']].apply(impute_height,axis=1)"
   ]
  },
  {
   "cell_type": "code",
   "execution_count": 16,
   "metadata": {},
   "outputs": [
    {
     "data": {
      "text/plain": [
       "<matplotlib.axes._subplots.AxesSubplot at 0x7f07e07bb978>"
      ]
     },
     "execution_count": 16,
     "metadata": {},
     "output_type": "execute_result"
    },
    {
     "data": {
      "image/png": "[encoded data removed]",
      "text/plain": [
       "<Figure size 432x288 with 1 Axes>"
      ]
     },
     "metadata": {},
     "output_type": "display_data"
    }
   ],
   "source": [
    "sns.heatmap(box.isnull(),yticklabels=False,cbar=False,cmap='viridis')"
   ]
  },
  {
   "cell_type": "markdown",
   "metadata": {},
   "source": [
    "## Impute stance\n",
    "\n",
    "Orthodox is the most common stance in boxing, so we use that."
   ]
  },
  {
   "cell_type": "code",
   "execution_count": 17,
   "metadata": {},
   "outputs": [
    {
     "data": {
      "text/plain": [
       "<matplotlib.axes._subplots.AxesSubplot at 0x7f07df84d898>"
      ]
     },
     "execution_count": 17,
     "metadata": {},
     "output_type": "execute_result"
    },
    {
     "data": {
      "image/png": "[encoded data removed]",
      "text/plain": [
       "<Figure size 432x288 with 1 Axes>"
      ]
     },
     "metadata": {},
     "output_type": "display_data"
    }
   ],
   "source": [
    "sns.countplot(x='stance_A',data=box)"
   ]
  },
  {
   "cell_type": "code",
   "execution_count": 18,
   "metadata": {},
   "outputs": [],
   "source": [
    "def impute_stance(cols):\n",
    "    if pd.isna(cols[0]):\n",
    "        return 'orthodox'\n",
    "    else: return cols[0]"
   ]
  },
  {
   "cell_type": "code",
   "execution_count": 19,
   "metadata": {},
   "outputs": [
    {
     "name": "stdout",
     "output_type": "stream",
     "text": [
      "CPU times: user 28.6 s, sys: 3.92 ms, total: 28.6 s\n",
      "Wall time: 28.6 s\n"
     ]
    }
   ],
   "source": [
    "%%time\n",
    "box['stance_A'] = box[['stance_A']].apply(impute_stance,axis=1)\n",
    "box['stance_B'] = box[['stance_B']].apply(impute_stance,axis=1)"
   ]
  },
  {
   "cell_type": "code",
   "execution_count": 20,
   "metadata": {},
   "outputs": [
    {
     "data": {
      "text/plain": [
       "<matplotlib.axes._subplots.AxesSubplot at 0x7f07df7a8860>"
      ]
     },
     "execution_count": 20,
     "metadata": {},
     "output_type": "execute_result"
    },
    {
     "data": {
      "image/png": "[encoded data removed]",
      "text/plain": [
       "<Figure size 432x288 with 1 Axes>"
      ]
     },
     "metadata": {},
     "output_type": "display_data"
    }
   ],
   "source": [
    "sns.heatmap(box.isnull(),yticklabels=False,cbar=False,cmap='viridis')"
   ]
  },
  {
   "cell_type": "markdown",
   "metadata": {},
   "source": [
    "## Impute age\n",
    "\n",
    "Same method."
   ]
  },
  {
   "cell_type": "code",
   "execution_count": 21,
   "metadata": {},
   "outputs": [
    {
     "data": {
      "text/plain": [
       "<matplotlib.axes._subplots.AxesSubplot at 0x7f07df7889b0>"
      ]
     },
     "execution_count": 21,
     "metadata": {},
     "output_type": "execute_result"
    },
    {
     "data": {
      "image/png": "[encoded data removed]",
      "text/plain": [
       "<Figure size 432x288 with 1 Axes>"
      ]
     },
     "metadata": {},
     "output_type": "display_data"
    }
   ],
   "source": [
    "sns.countplot(x='age_A',data=box)"
   ]
  },
  {
   "cell_type": "code",
   "execution_count": 22,
   "metadata": {},
   "outputs": [
    {
     "name": "stdout",
     "output_type": "stream",
     "text": [
      "25.499692995660926\n"
     ]
    }
   ],
   "source": [
    "ageMean = (box['age_A'].mean() + box['age_B'].mean())/2\n",
    "print(ageMean)"
   ]
  },
  {
   "cell_type": "code",
   "execution_count": 23,
   "metadata": {},
   "outputs": [],
   "source": [
    "def impute_age(cols):\n",
    "    if pd.isna(cols[0]):\n",
    "        return ageMean\n",
    "    else: return cols[0]"
   ]
  },
  {
   "cell_type": "code",
   "execution_count": 24,
   "metadata": {},
   "outputs": [
    {
     "name": "stdout",
     "output_type": "stream",
     "text": [
      "CPU times: user 32.3 s, sys: 31.1 ms, total: 32.4 s\n",
      "Wall time: 32.3 s\n"
     ]
    }
   ],
   "source": [
    "%%time\n",
    "box['age_A'] = box[['age_A']].apply(impute_age,axis=1)\n",
    "box['age_B'] = box[['age_B']].apply(impute_age,axis=1)"
   ]
  },
  {
   "cell_type": "code",
   "execution_count": 25,
   "metadata": {},
   "outputs": [
    {
     "data": {
      "text/plain": [
       "<matplotlib.axes._subplots.AxesSubplot at 0x7f07df6c3940>"
      ]
     },
     "execution_count": 25,
     "metadata": {},
     "output_type": "execute_result"
    },
    {
     "data": {
      "image/png": "[encoded data removed]",
      "text/plain": [
       "<Figure size 432x288 with 1 Axes>"
      ]
     },
     "metadata": {},
     "output_type": "display_data"
    }
   ],
   "source": [
    "sns.heatmap(box.isnull(),yticklabels=False,cbar=False,cmap='viridis')"
   ]
  },
  {
   "cell_type": "markdown",
   "metadata": {},
   "source": [
    "## Converting categorical variables\n",
    "\n",
    "Using get_dummies() we convert the stance from a category to an indicator"
   ]
  },
  {
   "cell_type": "code",
   "execution_count": 26,
   "metadata": {},
   "outputs": [],
   "source": [
    "stanceA = pd.get_dummies(box['stance_A'],drop_first=False)"
   ]
  },
  {
   "cell_type": "code",
   "execution_count": 27,
   "metadata": {},
   "outputs": [],
   "source": [
    "stanceB = pd.get_dummies(box['stance_B'],drop_first=False)"
   ]
  },
  {
   "cell_type": "code",
   "execution_count": 28,
   "metadata": {},
   "outputs": [],
   "source": [
    "box.drop(['stance_A', 'stance_B'], axis=1, inplace=True)"
   ]
  },
  {
   "cell_type": "code",
   "execution_count": 29,
   "metadata": {},
   "outputs": [],
   "source": [
    "box = pd.concat([box,stanceA],axis=1)"
   ]
  },
  {
   "cell_type": "code",
   "execution_count": 30,
   "metadata": {},
   "outputs": [],
   "source": [
    "box.drop(['southpaw'], axis=1, inplace=True)"
   ]
  },
  {
   "cell_type": "code",
   "execution_count": 31,
   "metadata": {},
   "outputs": [],
   "source": [
    "box = box.rename(columns = {'orthodox':'orthodox_A'})"
   ]
  },
  {
   "cell_type": "code",
   "execution_count": 32,
   "metadata": {},
   "outputs": [],
   "source": [
    "box = pd.concat([box,stanceB],axis=1)"
   ]
  },
  {
   "cell_type": "code",
   "execution_count": 33,
   "metadata": {},
   "outputs": [],
   "source": [
    "box.drop(['southpaw'], axis=1, inplace=True)"
   ]
  },
  {
   "cell_type": "code",
   "execution_count": 34,
   "metadata": {},
   "outputs": [],
   "source": [
    "box = box.rename(columns = {'orthodox':'orthodox_B'})"
   ]
  },
  {
   "cell_type": "code",
   "execution_count": 35,
   "metadata": {},
   "outputs": [],
   "source": [
    "result = pd.get_dummies(box['result'],drop_first=True)"
   ]
  },
  {
   "cell_type": "code",
   "execution_count": 36,
   "metadata": {},
   "outputs": [],
   "source": [
    "box = pd.concat([box, result], axis=1)"
   ]
  },
  {
   "cell_type": "code",
   "execution_count": 37,
   "metadata": {},
   "outputs": [],
   "source": [
    "box.drop(['result', 'win_B'], axis=1, inplace=True)"
   ]
  },
  {
   "cell_type": "code",
   "execution_count": 38,
   "metadata": {},
   "outputs": [],
   "source": [
    "box.drop(['drawn_A', 'drawn_B'], axis=1, inplace=True)"
   ]
  },
  {
   "cell_type": "code",
   "execution_count": 39,
   "metadata": {},
   "outputs": [],
   "source": [
    "box = box.dropna()"
   ]
  },
  {
   "cell_type": "code",
   "execution_count": 40,
   "metadata": {},
   "outputs": [
    {
     "data": {
      "text/plain": [
       "<matplotlib.axes._subplots.AxesSubplot at 0x7f07df56c1d0>"
      ]
     },
     "execution_count": 40,
     "metadata": {},
     "output_type": "execute_result"
    },
    {
     "data": {
      "image/png": "[encoded data removed]",
      "text/plain": [
       "<Figure size 432x288 with 1 Axes>"
      ]
     },
     "metadata": {},
     "output_type": "display_data"
    }
   ],
   "source": [
    "sns.heatmap(box.isnull(),yticklabels=False,cbar=False,cmap='viridis')"
   ]
  },
  {
   "cell_type": "code",
   "execution_count": 41,
   "metadata": {},
   "outputs": [
    {
     "data": {
      "text/html": [
       "<div>\n",
       "<style scoped>\n",
       "    .dataframe tbody tr th:only-of-type {\n",
       "        vertical-align: middle;\n",
       "    }\n",
       "\n",
       "    .dataframe tbody tr th {\n",
       "        vertical-align: top;\n",
       "    }\n",
       "\n",
       "    .dataframe thead th {\n",
       "        text-align: right;\n",
       "    }\n",
       "</style>\n",
       "<table border=\"1\" class=\"dataframe\">\n",
       "  <thead>\n",
       "    <tr style=\"text-align: right;\">\n",
       "      <th></th>\n",
       "      <th>age_A</th>\n",
       "      <th>age_B</th>\n",
       "      <th>height_A</th>\n",
       "      <th>height_B</th>\n",
       "      <th>weight_A</th>\n",
       "      <th>weight_B</th>\n",
       "      <th>won_A</th>\n",
       "      <th>won_B</th>\n",
       "      <th>lost_A</th>\n",
       "      <th>lost_B</th>\n",
       "      <th>kos_A</th>\n",
       "      <th>kos_B</th>\n",
       "      <th>orthodox_A</th>\n",
       "      <th>orthodox_B</th>\n",
       "      <th>win_A</th>\n",
       "    </tr>\n",
       "  </thead>\n",
       "  <tbody>\n",
       "    <tr>\n",
       "      <th>0</th>\n",
       "      <td>35.0</td>\n",
       "      <td>27.0</td>\n",
       "      <td>179.0</td>\n",
       "      <td>175.0</td>\n",
       "      <td>160.0</td>\n",
       "      <td>160.0</td>\n",
       "      <td>37</td>\n",
       "      <td>49</td>\n",
       "      <td>0</td>\n",
       "      <td>1</td>\n",
       "      <td>33</td>\n",
       "      <td>34.0</td>\n",
       "      <td>1</td>\n",
       "      <td>1</td>\n",
       "      <td>0</td>\n",
       "    </tr>\n",
       "    <tr>\n",
       "      <th>1</th>\n",
       "      <td>26.0</td>\n",
       "      <td>31.0</td>\n",
       "      <td>175.0</td>\n",
       "      <td>185.0</td>\n",
       "      <td>164.0</td>\n",
       "      <td>164.0</td>\n",
       "      <td>48</td>\n",
       "      <td>50</td>\n",
       "      <td>1</td>\n",
       "      <td>2</td>\n",
       "      <td>34</td>\n",
       "      <td>32.0</td>\n",
       "      <td>1</td>\n",
       "      <td>1</td>\n",
       "      <td>1</td>\n",
       "    </tr>\n",
       "    <tr>\n",
       "      <th>2</th>\n",
       "      <td>28.0</td>\n",
       "      <td>26.0</td>\n",
       "      <td>176.0</td>\n",
       "      <td>175.0</td>\n",
       "      <td>154.0</td>\n",
       "      <td>154.0</td>\n",
       "      <td>23</td>\n",
       "      <td>47</td>\n",
       "      <td>0</td>\n",
       "      <td>1</td>\n",
       "      <td>13</td>\n",
       "      <td>33.0</td>\n",
       "      <td>1</td>\n",
       "      <td>1</td>\n",
       "      <td>0</td>\n",
       "    </tr>\n",
       "    <tr>\n",
       "      <th>3</th>\n",
       "      <td>25.0</td>\n",
       "      <td>29.0</td>\n",
       "      <td>175.0</td>\n",
       "      <td>174.0</td>\n",
       "      <td>155.0</td>\n",
       "      <td>155.0</td>\n",
       "      <td>46</td>\n",
       "      <td>31</td>\n",
       "      <td>1</td>\n",
       "      <td>3</td>\n",
       "      <td>32</td>\n",
       "      <td>19.0</td>\n",
       "      <td>1</td>\n",
       "      <td>1</td>\n",
       "      <td>1</td>\n",
       "    </tr>\n",
       "    <tr>\n",
       "      <th>4</th>\n",
       "      <td>25.0</td>\n",
       "      <td>35.0</td>\n",
       "      <td>175.0</td>\n",
       "      <td>170.0</td>\n",
       "      <td>155.0</td>\n",
       "      <td>155.0</td>\n",
       "      <td>45</td>\n",
       "      <td>40</td>\n",
       "      <td>1</td>\n",
       "      <td>4</td>\n",
       "      <td>32</td>\n",
       "      <td>33.0</td>\n",
       "      <td>1</td>\n",
       "      <td>1</td>\n",
       "      <td>1</td>\n",
       "    </tr>\n",
       "  </tbody>\n",
       "</table>\n",
       "</div>"
      ],
      "text/plain": [
       "   age_A  age_B  height_A  height_B  weight_A  weight_B  won_A  won_B  lost_A  \\\n",
       "0   35.0   27.0     179.0     175.0     160.0     160.0     37     49       0   \n",
       "1   26.0   31.0     175.0     185.0     164.0     164.0     48     50       1   \n",
       "2   28.0   26.0     176.0     175.0     154.0     154.0     23     47       0   \n",
       "3   25.0   29.0     175.0     174.0     155.0     155.0     46     31       1   \n",
       "4   25.0   35.0     175.0     170.0     155.0     155.0     45     40       1   \n",
       "\n",
       "   lost_B  kos_A  kos_B  orthodox_A  orthodox_B  win_A  \n",
       "0       1     33   34.0           1           1      0  \n",
       "1       2     34   32.0           1           1      1  \n",
       "2       1     13   33.0           1           1      0  \n",
       "3       3     32   19.0           1           1      1  \n",
       "4       4     32   33.0           1           1      1  "
      ]
     },
     "execution_count": 41,
     "metadata": {},
     "output_type": "execute_result"
    }
   ],
   "source": [
    "box.head()"
   ]
  },
  {
   "cell_type": "code",
   "execution_count": 42,
   "metadata": {},
   "outputs": [
    {
     "data": {
      "text/plain": [
       "<matplotlib.axes._subplots.AxesSubplot at 0x7f07df565048>"
      ]
     },
     "execution_count": 42,
     "metadata": {},
     "output_type": "execute_result"
    },
    {
     "data": {
      "image/png": "[encoded data removed]",
      "text/plain": [
       "<Figure size 432x288 with 2 Axes>"
      ]
     },
     "metadata": {},
     "output_type": "display_data"
    }
   ],
   "source": [
    "sns.heatmap(box.corr())"
   ]
  },
  {
   "cell_type": "markdown",
   "metadata": {},
   "source": [
    "# Logistic Regression"
   ]
  },
  {
   "cell_type": "code",
   "execution_count": 43,
   "metadata": {},
   "outputs": [],
   "source": [
    "from sklearn.model_selection import train_test_split"
   ]
  },
  {
   "cell_type": "code",
   "execution_count": 44,
   "metadata": {},
   "outputs": [],
   "source": [
    "X_train, X_test, y_train, y_test = train_test_split(box.drop('win_A',axis=1), \n",
    "                                                    box['win_A'], test_size=0.30)"
   ]
  },
  {
   "cell_type": "code",
   "execution_count": 45,
   "metadata": {},
   "outputs": [],
   "source": [
    "from sklearn.linear_model import LogisticRegression"
   ]
  },
  {
   "cell_type": "code",
   "execution_count": 46,
   "metadata": {},
   "outputs": [
    {
     "data": {
      "text/plain": [
       "LogisticRegression(C=1.0, class_weight=None, dual=False, fit_intercept=True,\n",
       "          intercept_scaling=1, max_iter=100, multi_class='ovr', n_jobs=1,\n",
       "          penalty='l2', random_state=None, solver='liblinear', tol=0.0001,\n",
       "          verbose=0, warm_start=False)"
      ]
     },
     "execution_count": 46,
     "metadata": {},
     "output_type": "execute_result"
    }
   ],
   "source": [
    "logmodel = LogisticRegression()\n",
    "logmodel.fit(X_train,y_train)"
   ]
  },
  {
   "cell_type": "code",
   "execution_count": 47,
   "metadata": {},
   "outputs": [],
   "source": [
    "predictions = logmodel.predict(X_test)"
   ]
  },
  {
   "cell_type": "code",
   "execution_count": 48,
   "metadata": {},
   "outputs": [],
   "source": [
    "from sklearn.metrics import classification_report, confusion_matrix"
   ]
  },
  {
   "cell_type": "code",
   "execution_count": 49,
   "metadata": {},
   "outputs": [
    {
     "name": "stdout",
     "output_type": "stream",
     "text": [
      "             precision    recall  f1-score   support\n",
      "\n",
      "          0       0.53      0.08      0.13     19802\n",
      "          1       0.84      0.99      0.91     96403\n",
      "\n",
      "avg / total       0.79      0.83      0.77    116205\n",
      "\n"
     ]
    }
   ],
   "source": [
    "print(classification_report(y_test,predictions))"
   ]
  },
  {
   "cell_type": "code",
   "execution_count": 50,
   "metadata": {},
   "outputs": [
    {
     "name": "stdout",
     "output_type": "stream",
     "text": [
      "[[ 1525 18277]\n",
      " [ 1356 95047]]\n"
     ]
    }
   ],
   "source": [
    "print(confusion_matrix(y_test,predictions))"
   ]
  },
  {
   "cell_type": "markdown",
   "metadata": {},
   "source": [
    "# K Nearest Neighbours"
   ]
  },
  {
   "cell_type": "markdown",
   "metadata": {},
   "source": [
    "## Choosing a K Value\n"
   ]
  },
  {
   "cell_type": "code",
   "execution_count": 51,
   "metadata": {},
   "outputs": [
    {
     "data": {
      "image/png": "[encoded data removed]",
      "text/plain": [
       "<IPython.core.display.Image object>"
      ]
     },
     "execution_count": 51,
     "metadata": {},
     "output_type": "execute_result"
    }
   ],
   "source": [
    "Image('BestK.png')"
   ]
  },
  {
   "cell_type": "markdown",
   "metadata": {},
   "source": [
    "## Predicting"
   ]
  },
  {
   "cell_type": "code",
   "execution_count": 52,
   "metadata": {},
   "outputs": [],
   "source": [
    "from sklearn.neighbors import KNeighborsClassifier"
   ]
  },
  {
   "cell_type": "code",
   "execution_count": 53,
   "metadata": {},
   "outputs": [],
   "source": [
    "knn = KNeighborsClassifier(n_neighbors=11)"
   ]
  },
  {
   "cell_type": "code",
   "execution_count": 54,
   "metadata": {},
   "outputs": [
    {
     "data": {
      "text/plain": [
       "KNeighborsClassifier(algorithm='auto', leaf_size=30, metric='minkowski',\n",
       "           metric_params=None, n_jobs=1, n_neighbors=11, p=2,\n",
       "           weights='uniform')"
      ]
     },
     "execution_count": 54,
     "metadata": {},
     "output_type": "execute_result"
    }
   ],
   "source": [
    "knn.fit(X_train,y_train)"
   ]
  },
  {
   "cell_type": "code",
   "execution_count": 55,
   "metadata": {},
   "outputs": [],
   "source": [
    "pred = knn.predict(X_test)"
   ]
  },
  {
   "cell_type": "code",
   "execution_count": 56,
   "metadata": {},
   "outputs": [],
   "source": [
    "from sklearn.metrics import classification_report,confusion_matrix"
   ]
  },
  {
   "cell_type": "code",
   "execution_count": 57,
   "metadata": {},
   "outputs": [
    {
     "name": "stdout",
     "output_type": "stream",
     "text": [
      "[[ 2677 17125]\n",
      " [ 2490 93913]]\n"
     ]
    }
   ],
   "source": [
    "print(confusion_matrix(y_test,pred))"
   ]
  },
  {
   "cell_type": "code",
   "execution_count": 58,
   "metadata": {},
   "outputs": [
    {
     "name": "stdout",
     "output_type": "stream",
     "text": [
      "             precision    recall  f1-score   support\n",
      "\n",
      "          0       0.52      0.14      0.21     19802\n",
      "          1       0.85      0.97      0.91     96403\n",
      "\n",
      "avg / total       0.79      0.83      0.79    116205\n",
      "\n"
     ]
    }
   ],
   "source": [
    "print(classification_report(y_test,pred))"
   ]
  },
  {
   "cell_type": "markdown",
   "metadata": {},
   "source": [
    "# Random Forests"
   ]
  },
  {
   "cell_type": "code",
   "execution_count": 59,
   "metadata": {},
   "outputs": [
    {
     "data": {
      "text/plain": [
       "RandomForestClassifier(bootstrap=True, class_weight=None, criterion='gini',\n",
       "            max_depth=None, max_features='auto', max_leaf_nodes=None,\n",
       "            min_impurity_decrease=0.0, min_impurity_split=None,\n",
       "            min_samples_leaf=1, min_samples_split=2,\n",
       "            min_weight_fraction_leaf=0.0, n_estimators=100, n_jobs=1,\n",
       "            oob_score=False, random_state=None, verbose=0,\n",
       "            warm_start=False)"
      ]
     },
     "execution_count": 59,
     "metadata": {},
     "output_type": "execute_result"
    }
   ],
   "source": [
    "from sklearn.ensemble import RandomForestClassifier\n",
    "rfc = RandomForestClassifier(n_estimators=100)\n",
    "rfc.fit(X_train, y_train)"
   ]
  },
  {
   "cell_type": "code",
   "execution_count": 60,
   "metadata": {},
   "outputs": [],
   "source": [
    "rfc_pred = rfc.predict(X_test)"
   ]
  },
  {
   "cell_type": "code",
   "execution_count": 61,
   "metadata": {},
   "outputs": [
    {
     "name": "stdout",
     "output_type": "stream",
     "text": [
      "[[ 4984 14818]\n",
      " [ 2303 94100]]\n"
     ]
    }
   ],
   "source": [
    "print(confusion_matrix(y_test,rfc_pred))"
   ]
  },
  {
   "cell_type": "code",
   "execution_count": 62,
   "metadata": {},
   "outputs": [
    {
     "name": "stdout",
     "output_type": "stream",
     "text": [
      "             precision    recall  f1-score   support\n",
      "\n",
      "          0       0.68      0.25      0.37     19802\n",
      "          1       0.86      0.98      0.92     96403\n",
      "\n",
      "avg / total       0.83      0.85      0.82    116205\n",
      "\n"
     ]
    }
   ],
   "source": [
    "print(classification_report(y_test,rfc_pred))"
   ]
  }
 ],
 "metadata": {
  "kernelspec": {
   "display_name": "Python 3",
   "language": "python",
   "name": "python3"
  },
  "language_info": {
   "codemirror_mode": {
    "name": "ipython",
    "version": 3
   },
   "file_extension": ".py",
   "mimetype": "text/x-python",
   "name": "python",
   "nbconvert_exporter": "python",
   "pygments_lexer": "ipython3",
   "version": "3.6.4"
  }
 },
 "nbformat": 4,
 "nbformat_minor": 2
}
