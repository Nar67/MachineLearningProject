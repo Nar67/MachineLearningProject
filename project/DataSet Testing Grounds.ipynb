{
 "cells": [
  {
   "cell_type": "code",
   "execution_count": null,
   "metadata": {},
   "outputs": [],
   "source": []
  },
  {
   "cell_type": "code",
   "execution_count": null,
   "metadata": {},
   "outputs": [],
   "source": []
  },
  {
   "cell_type": "code",
   "execution_count": 1,
   "metadata": {},
   "outputs": [],
   "source": [
    "import pandas as pd\n",
    "import numpy as np\n",
    "import matplotlib.pyplot as plt\n",
    "import seaborn as sns\n",
    "%matplotlib inline"
   ]
  },
  {
   "cell_type": "code",
   "execution_count": 4,
   "metadata": {},
   "outputs": [],
   "source": [
    "box = pd.read_csv('boxing_matches.csv')\n",
    "box.drop(['judge1_A', 'judge1_B', 'judge2_A', 'judge2_B', 'judge3_A', 'judge3_B', 'decision', ])"
   ]
  },
  {
   "cell_type": "code",
   "execution_count": 5,
   "metadata": {},
   "outputs": [
    {
     "data": {
      "text/html": [
       "<div>\n",
       "<style scoped>\n",
       "    .dataframe tbody tr th:only-of-type {\n",
       "        vertical-align: middle;\n",
       "    }\n",
       "\n",
       "    .dataframe tbody tr th {\n",
       "        vertical-align: top;\n",
       "    }\n",
       "\n",
       "    .dataframe thead th {\n",
       "        text-align: right;\n",
       "    }\n",
       "</style>\n",
       "<table border=\"1\" class=\"dataframe\">\n",
       "  <thead>\n",
       "    <tr style=\"text-align: right;\">\n",
       "      <th></th>\n",
       "      <th>age_A</th>\n",
       "      <th>age_B</th>\n",
       "      <th>height_A</th>\n",
       "      <th>height_B</th>\n",
       "      <th>reach_A</th>\n",
       "      <th>reach_B</th>\n",
       "      <th>stance_A</th>\n",
       "      <th>stance_B</th>\n",
       "      <th>weight_A</th>\n",
       "      <th>weight_B</th>\n",
       "      <th>...</th>\n",
       "      <th>kos_A</th>\n",
       "      <th>kos_B</th>\n",
       "      <th>result</th>\n",
       "      <th>decision</th>\n",
       "      <th>judge1_A</th>\n",
       "      <th>judge1_B</th>\n",
       "      <th>judge2_A</th>\n",
       "      <th>judge2_B</th>\n",
       "      <th>judge3_A</th>\n",
       "      <th>judge3_B</th>\n",
       "    </tr>\n",
       "  </thead>\n",
       "  <tbody>\n",
       "    <tr>\n",
       "      <th>0</th>\n",
       "      <td>35.0</td>\n",
       "      <td>27.0</td>\n",
       "      <td>179.0</td>\n",
       "      <td>175.0</td>\n",
       "      <td>178.0</td>\n",
       "      <td>179.0</td>\n",
       "      <td>orthodox</td>\n",
       "      <td>orthodox</td>\n",
       "      <td>160.0</td>\n",
       "      <td>160.0</td>\n",
       "      <td>...</td>\n",
       "      <td>33</td>\n",
       "      <td>34.0</td>\n",
       "      <td>draw</td>\n",
       "      <td>SD</td>\n",
       "      <td>110.0</td>\n",
       "      <td>118.0</td>\n",
       "      <td>115.0</td>\n",
       "      <td>113.0</td>\n",
       "      <td>114.0</td>\n",
       "      <td>114.0</td>\n",
       "    </tr>\n",
       "    <tr>\n",
       "      <th>1</th>\n",
       "      <td>26.0</td>\n",
       "      <td>31.0</td>\n",
       "      <td>175.0</td>\n",
       "      <td>185.0</td>\n",
       "      <td>179.0</td>\n",
       "      <td>185.0</td>\n",
       "      <td>orthodox</td>\n",
       "      <td>orthodox</td>\n",
       "      <td>164.0</td>\n",
       "      <td>164.0</td>\n",
       "      <td>...</td>\n",
       "      <td>34</td>\n",
       "      <td>32.0</td>\n",
       "      <td>win_A</td>\n",
       "      <td>UD</td>\n",
       "      <td>120.0</td>\n",
       "      <td>108.0</td>\n",
       "      <td>120.0</td>\n",
       "      <td>108.0</td>\n",
       "      <td>120.0</td>\n",
       "      <td>108.0</td>\n",
       "    </tr>\n",
       "    <tr>\n",
       "      <th>2</th>\n",
       "      <td>28.0</td>\n",
       "      <td>26.0</td>\n",
       "      <td>176.0</td>\n",
       "      <td>175.0</td>\n",
       "      <td>NaN</td>\n",
       "      <td>179.0</td>\n",
       "      <td>orthodox</td>\n",
       "      <td>orthodox</td>\n",
       "      <td>154.0</td>\n",
       "      <td>154.0</td>\n",
       "      <td>...</td>\n",
       "      <td>13</td>\n",
       "      <td>33.0</td>\n",
       "      <td>win_B</td>\n",
       "      <td>KO</td>\n",
       "      <td>NaN</td>\n",
       "      <td>NaN</td>\n",
       "      <td>NaN</td>\n",
       "      <td>NaN</td>\n",
       "      <td>NaN</td>\n",
       "      <td>NaN</td>\n",
       "    </tr>\n",
       "    <tr>\n",
       "      <th>3</th>\n",
       "      <td>25.0</td>\n",
       "      <td>29.0</td>\n",
       "      <td>175.0</td>\n",
       "      <td>174.0</td>\n",
       "      <td>179.0</td>\n",
       "      <td>180.0</td>\n",
       "      <td>orthodox</td>\n",
       "      <td>orthodox</td>\n",
       "      <td>155.0</td>\n",
       "      <td>155.0</td>\n",
       "      <td>...</td>\n",
       "      <td>32</td>\n",
       "      <td>19.0</td>\n",
       "      <td>win_A</td>\n",
       "      <td>KO</td>\n",
       "      <td>47.0</td>\n",
       "      <td>48.0</td>\n",
       "      <td>49.0</td>\n",
       "      <td>46.0</td>\n",
       "      <td>48.0</td>\n",
       "      <td>47.0</td>\n",
       "    </tr>\n",
       "    <tr>\n",
       "      <th>4</th>\n",
       "      <td>25.0</td>\n",
       "      <td>35.0</td>\n",
       "      <td>175.0</td>\n",
       "      <td>170.0</td>\n",
       "      <td>179.0</td>\n",
       "      <td>170.0</td>\n",
       "      <td>orthodox</td>\n",
       "      <td>orthodox</td>\n",
       "      <td>155.0</td>\n",
       "      <td>NaN</td>\n",
       "      <td>...</td>\n",
       "      <td>32</td>\n",
       "      <td>33.0</td>\n",
       "      <td>win_A</td>\n",
       "      <td>UD</td>\n",
       "      <td>118.0</td>\n",
       "      <td>110.0</td>\n",
       "      <td>119.0</td>\n",
       "      <td>109.0</td>\n",
       "      <td>117.0</td>\n",
       "      <td>111.0</td>\n",
       "    </tr>\n",
       "  </tbody>\n",
       "</table>\n",
       "<p>5 rows × 26 columns</p>\n",
       "</div>"
      ],
      "text/plain": [
       "   age_A  age_B  height_A  height_B  reach_A  reach_B  stance_A  stance_B  \\\n",
       "0   35.0   27.0     179.0     175.0    178.0    179.0  orthodox  orthodox   \n",
       "1   26.0   31.0     175.0     185.0    179.0    185.0  orthodox  orthodox   \n",
       "2   28.0   26.0     176.0     175.0      NaN    179.0  orthodox  orthodox   \n",
       "3   25.0   29.0     175.0     174.0    179.0    180.0  orthodox  orthodox   \n",
       "4   25.0   35.0     175.0     170.0    179.0    170.0  orthodox  orthodox   \n",
       "\n",
       "   weight_A  weight_B   ...     kos_A  kos_B  result  decision  judge1_A  \\\n",
       "0     160.0     160.0   ...        33   34.0    draw        SD     110.0   \n",
       "1     164.0     164.0   ...        34   32.0   win_A        UD     120.0   \n",
       "2     154.0     154.0   ...        13   33.0   win_B        KO       NaN   \n",
       "3     155.0     155.0   ...        32   19.0   win_A        KO      47.0   \n",
       "4     155.0       NaN   ...        32   33.0   win_A        UD     118.0   \n",
       "\n",
       "   judge1_B  judge2_A  judge2_B judge3_A judge3_B  \n",
       "0     118.0     115.0     113.0    114.0    114.0  \n",
       "1     108.0     120.0     108.0    120.0    108.0  \n",
       "2       NaN       NaN       NaN      NaN      NaN  \n",
       "3      48.0      49.0      46.0     48.0     47.0  \n",
       "4     110.0     119.0     109.0    117.0    111.0  \n",
       "\n",
       "[5 rows x 26 columns]"
      ]
     },
     "execution_count": 5,
     "metadata": {},
     "output_type": "execute_result"
    }
   ],
   "source": [
    "box.head()"
   ]
  },
  {
   "cell_type": "code",
   "execution_count": 6,
   "metadata": {},
   "outputs": [
    {
     "data": {
      "text/plain": [
       "<matplotlib.axes._subplots.AxesSubplot at 0x7ff4d75cb080>"
      ]
     },
     "execution_count": 6,
     "metadata": {},
     "output_type": "execute_result"
    },
    {
     "data": {
      "image/png": "[encoded data removed]",
      "text/plain": [
       "<Figure size 432x288 with 1 Axes>"
      ]
     },
     "metadata": {},
     "output_type": "display_data"
    }
   ],
   "source": [
    "sns.heatmap(box.isnull(),yticklabels=False,cbar=False,cmap='viridis')"
   ]
  },
  {
   "cell_type": "code",
   "execution_count": 7,
   "metadata": {},
   "outputs": [
    {
     "name": "stdout",
     "output_type": "stream",
     "text": [
      "<class 'pandas.core.frame.DataFrame'>\n",
      "RangeIndex: 387427 entries, 0 to 387426\n",
      "Data columns (total 26 columns):\n",
      "age_A       352888 non-null float64\n",
      "age_B       257935 non-null float64\n",
      "height_A    249246 non-null float64\n",
      "height_B    134640 non-null float64\n",
      "reach_A     112342 non-null float64\n",
      "reach_B     37873 non-null float64\n",
      "stance_A    231009 non-null object\n",
      "stance_B    231009 non-null object\n",
      "weight_A    135573 non-null float64\n",
      "weight_B    130358 non-null float64\n",
      "won_A       387427 non-null int64\n",
      "won_B       387427 non-null int64\n",
      "lost_A      387427 non-null int64\n",
      "lost_B      387427 non-null int64\n",
      "drawn_A     387427 non-null int64\n",
      "drawn_B     387427 non-null int64\n",
      "kos_A       387427 non-null int64\n",
      "kos_B       387348 non-null float64\n",
      "result      387427 non-null object\n",
      "decision    387427 non-null object\n",
      "judge1_A    52248 non-null float64\n",
      "judge1_B    52060 non-null float64\n",
      "judge2_A    70371 non-null float64\n",
      "judge2_B    70032 non-null float64\n",
      "judge3_A    61231 non-null float64\n",
      "judge3_B    61023 non-null float64\n",
      "dtypes: float64(15), int64(7), object(4)\n",
      "memory usage: 76.9+ MB\n"
     ]
    }
   ],
   "source": [
    "box.info()"
   ]
  },
  {
   "cell_type": "code",
   "execution_count": null,
   "metadata": {},
   "outputs": [],
   "source": []
  },
  {
   "cell_type": "code",
   "execution_count": null,
   "metadata": {},
   "outputs": [],
   "source": []
  },
  {
   "cell_type": "code",
   "execution_count": null,
   "metadata": {},
   "outputs": [],
   "source": []
  },
  {
   "cell_type": "code",
   "execution_count": null,
   "metadata": {},
   "outputs": [],
   "source": []
  },
  {
   "cell_type": "code",
   "execution_count": null,
   "metadata": {},
   "outputs": [],
   "source": []
  },
  {
   "cell_type": "code",
   "execution_count": null,
   "metadata": {},
   "outputs": [],
   "source": []
  },
  {
   "cell_type": "code",
   "execution_count": null,
   "metadata": {},
   "outputs": [],
   "source": []
  },
  {
   "cell_type": "code",
   "execution_count": null,
   "metadata": {},
   "outputs": [],
   "source": []
  },
  {
   "cell_type": "code",
   "execution_count": null,
   "metadata": {},
   "outputs": [],
   "source": []
  },
  {
   "cell_type": "code",
   "execution_count": null,
   "metadata": {},
   "outputs": [],
   "source": []
  }
 ],
 "metadata": {
  "kernelspec": {
   "display_name": "Python 3",
   "language": "python",
   "name": "python3"
  },
  "language_info": {
   "codemirror_mode": {
    "name": "ipython",
    "version": 3
   },
   "file_extension": ".py",
   "mimetype": "text/x-python",
   "name": "python",
   "nbconvert_exporter": "python",
   "pygments_lexer": "ipython3",
   "version": "3.6.4"
  }
 },
 "nbformat": 4,
 "nbformat_minor": 2
}
